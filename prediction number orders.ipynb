{
 "nbformat": 4,
 "nbformat_minor": 0,
 "metadata": {
  "colab": {
   "provenance": [],
   "mount_file_id": "1SeXo1DiPVQxPeSSbFeNRA6lB3nTiqXGE",
   "authorship_tag": "ABX9TyNfrrypN3NOsqX9ewshztrp"
  },
  "kernelspec": {
   "name": "python3",
   "language": "python",
   "display_name": "Python 3 (ipykernel)"
  },
  "language_info": {
   "name": "python"
  },
  "accelerator": "TPU"
 },
 "cells": [
  {
   "cell_type": "markdown",
   "source": [
    "# Importing libraries"
   ],
   "metadata": {
    "id": "DUCRR-u2GVUm"
   }
  },
  {
   "cell_type": "code",
   "source": [
    "!pip install ydata_profiling"
   ],
   "metadata": {
    "id": "heYqpYAfHARN",
    "executionInfo": {
     "status": "ok",
     "timestamp": 1696623935105,
     "user_tz": -180,
     "elapsed": 268,
     "user": {
      "displayName": "Дмитрий Камышников",
      "userId": "03871553027115189109"
     }
    },
    "ExecuteTime": {
     "end_time": "2024-01-20T08:37:26.315232400Z",
     "start_time": "2024-01-20T08:37:21.998722500Z"
    }
   },
   "execution_count": 4,
   "outputs": [
    {
     "name": "stdout",
     "output_type": "stream",
     "text": [
      "Requirement already satisfied: ydata_profiling in c:\\users\\progr\\appdata\\local\\programs\\python\\python311\\lib\\site-packages (4.5.1)\n",
      "Requirement already satisfied: scipy<1.12,>=1.4.1 in c:\\users\\progr\\appdata\\local\\programs\\python\\python311\\lib\\site-packages (from ydata_profiling) (1.11.2)\n",
      "Requirement already satisfied: pandas!=1.4.0,<2.1,>1.1 in c:\\users\\progr\\appdata\\local\\programs\\python\\python311\\lib\\site-packages (from ydata_profiling) (2.0.3)\n",
      "Requirement already satisfied: matplotlib<4,>=3.2 in c:\\users\\progr\\appdata\\local\\programs\\python\\python311\\lib\\site-packages (from ydata_profiling) (3.7.2)\n",
      "Requirement already satisfied: pydantic<2,>=1.8.1 in c:\\users\\progr\\appdata\\local\\programs\\python\\python311\\lib\\site-packages (from ydata_profiling) (1.10.12)\n",
      "Requirement already satisfied: PyYAML<6.1,>=5.0.0 in c:\\users\\progr\\appdata\\local\\programs\\python\\python311\\lib\\site-packages (from ydata_profiling) (6.0.1)\n",
      "Requirement already satisfied: jinja2<3.2,>=2.11.1 in c:\\users\\progr\\appdata\\local\\programs\\python\\python311\\lib\\site-packages (from ydata_profiling) (3.1.2)\n",
      "Requirement already satisfied: visions==0.7.5 in c:\\users\\progr\\appdata\\local\\programs\\python\\python311\\lib\\site-packages (from visions[type_image_path]==0.7.5->ydata_profiling) (0.7.5)\n",
      "Requirement already satisfied: numpy<1.24,>=1.16.0 in c:\\users\\progr\\appdata\\local\\programs\\python\\python311\\lib\\site-packages (from ydata_profiling) (1.23.5)\n",
      "Requirement already satisfied: htmlmin==0.1.12 in c:\\users\\progr\\appdata\\local\\programs\\python\\python311\\lib\\site-packages (from ydata_profiling) (0.1.12)\n",
      "Requirement already satisfied: phik<0.13,>=0.11.1 in c:\\users\\progr\\appdata\\local\\programs\\python\\python311\\lib\\site-packages (from ydata_profiling) (0.12.3)\n",
      "Requirement already satisfied: requests<3,>=2.24.0 in c:\\users\\progr\\appdata\\local\\programs\\python\\python311\\lib\\site-packages (from ydata_profiling) (2.31.0)\n",
      "Requirement already satisfied: tqdm<5,>=4.48.2 in c:\\users\\progr\\appdata\\local\\programs\\python\\python311\\lib\\site-packages (from ydata_profiling) (4.66.1)\n",
      "Requirement already satisfied: seaborn<0.13,>=0.10.1 in c:\\users\\progr\\appdata\\local\\programs\\python\\python311\\lib\\site-packages (from ydata_profiling) (0.12.2)\n",
      "Requirement already satisfied: multimethod<2,>=1.4 in c:\\users\\progr\\appdata\\local\\programs\\python\\python311\\lib\\site-packages (from ydata_profiling) (1.9.1)\n",
      "Requirement already satisfied: statsmodels<1,>=0.13.2 in c:\\users\\progr\\appdata\\local\\programs\\python\\python311\\lib\\site-packages (from ydata_profiling) (0.14.0)\n",
      "Requirement already satisfied: typeguard<3,>=2.13.2 in c:\\users\\progr\\appdata\\local\\programs\\python\\python311\\lib\\site-packages (from ydata_profiling) (2.13.3)\n",
      "Requirement already satisfied: imagehash==4.3.1 in c:\\users\\progr\\appdata\\local\\programs\\python\\python311\\lib\\site-packages (from ydata_profiling) (4.3.1)\n",
      "Requirement already satisfied: wordcloud>=1.9.1 in c:\\users\\progr\\appdata\\local\\programs\\python\\python311\\lib\\site-packages (from ydata_profiling) (1.9.2)\n",
      "Requirement already satisfied: dacite>=1.8 in c:\\users\\progr\\appdata\\local\\programs\\python\\python311\\lib\\site-packages (from ydata_profiling) (1.8.1)\n",
      "Requirement already satisfied: PyWavelets in c:\\users\\progr\\appdata\\local\\programs\\python\\python311\\lib\\site-packages (from imagehash==4.3.1->ydata_profiling) (1.4.1)\n",
      "Requirement already satisfied: pillow in c:\\users\\progr\\appdata\\local\\programs\\python\\python311\\lib\\site-packages (from imagehash==4.3.1->ydata_profiling) (10.0.0)\n",
      "Requirement already satisfied: attrs>=19.3.0 in c:\\users\\progr\\appdata\\local\\programs\\python\\python311\\lib\\site-packages (from visions==0.7.5->visions[type_image_path]==0.7.5->ydata_profiling) (23.1.0)\n",
      "Requirement already satisfied: networkx>=2.4 in c:\\users\\progr\\appdata\\local\\programs\\python\\python311\\lib\\site-packages (from visions==0.7.5->visions[type_image_path]==0.7.5->ydata_profiling) (3.1)\n",
      "Requirement already satisfied: tangled-up-in-unicode>=0.0.4 in c:\\users\\progr\\appdata\\local\\programs\\python\\python311\\lib\\site-packages (from visions==0.7.5->visions[type_image_path]==0.7.5->ydata_profiling) (0.2.0)\n",
      "Requirement already satisfied: MarkupSafe>=2.0 in c:\\users\\progr\\appdata\\local\\programs\\python\\python311\\lib\\site-packages (from jinja2<3.2,>=2.11.1->ydata_profiling) (2.1.3)\n",
      "Requirement already satisfied: contourpy>=1.0.1 in c:\\users\\progr\\appdata\\local\\programs\\python\\python311\\lib\\site-packages (from matplotlib<4,>=3.2->ydata_profiling) (1.1.0)\n",
      "Requirement already satisfied: cycler>=0.10 in c:\\users\\progr\\appdata\\local\\programs\\python\\python311\\lib\\site-packages (from matplotlib<4,>=3.2->ydata_profiling) (0.11.0)\n",
      "Requirement already satisfied: fonttools>=4.22.0 in c:\\users\\progr\\appdata\\local\\programs\\python\\python311\\lib\\site-packages (from matplotlib<4,>=3.2->ydata_profiling) (4.42.1)\n",
      "Requirement already satisfied: kiwisolver>=1.0.1 in c:\\users\\progr\\appdata\\local\\programs\\python\\python311\\lib\\site-packages (from matplotlib<4,>=3.2->ydata_profiling) (1.4.5)\n",
      "Requirement already satisfied: packaging>=20.0 in c:\\users\\progr\\appdata\\roaming\\python\\python311\\site-packages (from matplotlib<4,>=3.2->ydata_profiling) (23.1)\n",
      "Requirement already satisfied: pyparsing<3.1,>=2.3.1 in c:\\users\\progr\\appdata\\local\\programs\\python\\python311\\lib\\site-packages (from matplotlib<4,>=3.2->ydata_profiling) (3.0.9)\n",
      "Requirement already satisfied: python-dateutil>=2.7 in c:\\users\\progr\\appdata\\roaming\\python\\python311\\site-packages (from matplotlib<4,>=3.2->ydata_profiling) (2.8.2)\n",
      "Requirement already satisfied: pytz>=2020.1 in c:\\users\\progr\\appdata\\local\\programs\\python\\python311\\lib\\site-packages (from pandas!=1.4.0,<2.1,>1.1->ydata_profiling) (2023.3.post1)\n",
      "Requirement already satisfied: tzdata>=2022.1 in c:\\users\\progr\\appdata\\local\\programs\\python\\python311\\lib\\site-packages (from pandas!=1.4.0,<2.1,>1.1->ydata_profiling) (2023.3)\n",
      "Requirement already satisfied: joblib>=0.14.1 in c:\\users\\progr\\appdata\\local\\programs\\python\\python311\\lib\\site-packages (from phik<0.13,>=0.11.1->ydata_profiling) (1.3.2)\n",
      "Requirement already satisfied: typing-extensions>=4.2.0 in c:\\users\\progr\\appdata\\local\\programs\\python\\python311\\lib\\site-packages (from pydantic<2,>=1.8.1->ydata_profiling) (4.7.1)\n",
      "Requirement already satisfied: charset-normalizer<4,>=2 in c:\\users\\progr\\appdata\\local\\programs\\python\\python311\\lib\\site-packages (from requests<3,>=2.24.0->ydata_profiling) (3.2.0)\n",
      "Requirement already satisfied: idna<4,>=2.5 in c:\\users\\progr\\appdata\\local\\programs\\python\\python311\\lib\\site-packages (from requests<3,>=2.24.0->ydata_profiling) (3.4)\n",
      "Requirement already satisfied: urllib3<3,>=1.21.1 in c:\\users\\progr\\appdata\\local\\programs\\python\\python311\\lib\\site-packages (from requests<3,>=2.24.0->ydata_profiling) (2.0.4)\n",
      "Requirement already satisfied: certifi>=2017.4.17 in c:\\users\\progr\\appdata\\local\\programs\\python\\python311\\lib\\site-packages (from requests<3,>=2.24.0->ydata_profiling) (2023.7.22)\n",
      "Requirement already satisfied: patsy>=0.5.2 in c:\\users\\progr\\appdata\\local\\programs\\python\\python311\\lib\\site-packages (from statsmodels<1,>=0.13.2->ydata_profiling) (0.5.3)\n",
      "Requirement already satisfied: colorama in c:\\users\\progr\\appdata\\roaming\\python\\python311\\site-packages (from tqdm<5,>=4.48.2->ydata_profiling) (0.4.6)\n",
      "Requirement already satisfied: six in c:\\users\\progr\\appdata\\roaming\\python\\python311\\site-packages (from patsy>=0.5.2->statsmodels<1,>=0.13.2->ydata_profiling) (1.16.0)\n"
     ]
    },
    {
     "name": "stderr",
     "output_type": "stream",
     "text": [
      "\n",
      "[notice] A new release of pip is available: 23.3.1 -> 23.3.2\n",
      "[notice] To update, run: python.exe -m pip install --upgrade pip\n"
     ]
    }
   ]
  },
  {
   "cell_type": "code",
   "source": [
    "# Import the necessary libraries\n",
    "import pandas as pd\n",
    "import numpy as np\n",
    "import matplotlib.pyplot as plt\n",
    "from ydata_profiling import ProfileReport\n",
    "from sklearn.preprocessing import StandardScaler\n",
    "from sklearn.model_selection import train_test_split\n",
    "from sklearn.linear_model import Lasso, LassoCV, LinearRegression, Ridge\n",
    "from sklearn import metrics\n",
    "from sklearn.decomposition import PCA\n",
    "from sklearn.metrics import mean_absolute_error, mean_squared_error, r2_score"
   ],
   "metadata": {
    "id": "yjM8tvHGGcxg",
    "executionInfo": {
     "status": "ok",
     "timestamp": 1696623935557,
     "user_tz": -180,
     "elapsed": 2,
     "user": {
      "displayName": "Дмитрий Камышников",
      "userId": "03871553027115189109"
     }
    },
    "ExecuteTime": {
     "end_time": "2024-01-20T08:37:26.326681500Z",
     "start_time": "2024-01-20T08:37:26.318208700Z"
    }
   },
   "execution_count": 5,
   "outputs": []
  },
  {
   "cell_type": "markdown",
   "source": [
    "## Data loading and preprocessing"
   ],
   "metadata": {
    "id": "B1Y7Z6bi1ftw"
   }
  },
  {
   "cell_type": "code",
   "source": [
    "# Loading Data from a JSON File\n",
    "with open('couriers_data.json', 'r') as file:\n",
    "    data = pd.read_json(file)"
   ],
   "metadata": {
    "id": "unSCyYEEGj_g",
    "executionInfo": {
     "status": "ok",
     "timestamp": 1696623935979,
     "user_tz": -180,
     "elapsed": 423,
     "user": {
      "displayName": "Дмитрий Камышников",
      "userId": "03871553027115189109"
     }
    },
    "ExecuteTime": {
     "end_time": "2024-01-20T08:37:26.420097200Z",
     "start_time": "2024-01-20T08:37:26.322322900Z"
    }
   },
   "execution_count": 6,
   "outputs": []
  },
  {
   "cell_type": "code",
   "source": [
    "# Profiling data\n",
    "report = ProfileReport(data)\n",
    "report.to_file('data_profile_report.html')"
   ],
   "metadata": {
    "id": "gJmLkUB2GsF1",
    "executionInfo": {
     "status": "ok",
     "timestamp": 1696623935979,
     "user_tz": -180,
     "elapsed": 3,
     "user": {
      "displayName": "Дмитрий Камышников",
      "userId": "03871553027115189109"
     }
    },
    "ExecuteTime": {
     "end_time": "2024-01-20T08:37:35.242468100Z",
     "start_time": "2024-01-20T08:37:26.423557600Z"
    }
   },
   "execution_count": 7,
   "outputs": [
    {
     "data": {
      "text/plain": "Summarize dataset:   0%|          | 0/5 [00:00<?, ?it/s]",
      "application/vnd.jupyter.widget-view+json": {
       "version_major": 2,
       "version_minor": 0,
       "model_id": "a9d74482d1a849d5bf0ef99f6262b277"
      }
     },
     "metadata": {},
     "output_type": "display_data"
    },
    {
     "data": {
      "text/plain": "Generate report structure:   0%|          | 0/1 [00:00<?, ?it/s]",
      "application/vnd.jupyter.widget-view+json": {
       "version_major": 2,
       "version_minor": 0,
       "model_id": "de69328db0494afcaad218281e329a59"
      }
     },
     "metadata": {},
     "output_type": "display_data"
    },
    {
     "data": {
      "text/plain": "Render HTML:   0%|          | 0/1 [00:00<?, ?it/s]",
      "application/vnd.jupyter.widget-view+json": {
       "version_major": 2,
       "version_minor": 0,
       "model_id": "6df91c23a5a64c2a9c069b39335612cd"
      }
     },
     "metadata": {},
     "output_type": "display_data"
    },
    {
     "data": {
      "text/plain": "Export report to file:   0%|          | 0/1 [00:00<?, ?it/s]",
      "application/vnd.jupyter.widget-view+json": {
       "version_major": 2,
       "version_minor": 0,
       "model_id": "7f402bcdcbc9450b86a8cf7a3e91d28f"
      }
     },
     "metadata": {},
     "output_type": "display_data"
    }
   ]
  },
  {
   "cell_type": "markdown",
   "source": [
    "From the report, it is evident that the data contains categorical features that need to be processed. To do this, you can use Label Encoding or one-hot encoding. In this task, the mode of transportation can be considered as ordinal variables."
   ],
   "metadata": {
    "id": "Ja-rN9bZJxUr"
   }
  },
  {
   "cell_type": "code",
   "source": [
    "# Handling Categorical Features\n",
    "category_mapping = {\n",
    "    \"foot\": 1,\n",
    "    \"bicycle\": 2,\n",
    "    \"scooter\": 3,\n",
    "    \"automobile\": 4,\n",
    "}\n",
    "\n",
    "data['courier_transport'] = data['courier_transport'].map(category_mapping)"
   ],
   "metadata": {
    "id": "vuzf7a_XGx57",
    "executionInfo": {
     "status": "ok",
     "timestamp": 1696623935979,
     "user_tz": -180,
     "elapsed": 3,
     "user": {
      "displayName": "Дмитрий Камышников",
      "userId": "03871553027115189109"
     }
    },
    "ExecuteTime": {
     "end_time": "2024-01-20T08:37:35.243467800Z",
     "start_time": "2024-01-20T08:37:35.230799400Z"
    }
   },
   "execution_count": 8,
   "outputs": []
  },
  {
   "cell_type": "markdown",
   "source": [
    "It is also visible from the report that we have two columns with timestamps that, according to the task conditions, we will no longer need after performing the required calculations. Let's perform the necessary calculations and drop the two timestamp columns."
   ],
   "metadata": {
    "id": "cesHpFotLFx7"
   }
  },
  {
   "cell_type": "code",
   "source": [
    "# Transformation of timestamp columns\n",
    "data['work_start'] = pd.to_datetime(data['work_start'])\n",
    "data['work_finish'] = pd.to_datetime(data['work_finish'])\n",
    "\n",
    "# Calculating the difference between 'work_finish' and 'work_start' in minutes.\n",
    "data['hours_engaged'] = (data['work_finish'] - data['work_start']).dt.total_seconds() / 60\n",
    "\n",
    "# Removing the two columns 'work_start' and 'work_finish'.\n",
    "data.drop(['work_start', 'work_finish'], axis=1, inplace=True)"
   ],
   "metadata": {
    "id": "Sdm1X_diGmzC",
    "executionInfo": {
     "status": "ok",
     "timestamp": 1696623935979,
     "user_tz": -180,
     "elapsed": 3,
     "user": {
      "displayName": "Дмитрий Камышников",
      "userId": "03871553027115189109"
     }
    },
    "ExecuteTime": {
     "end_time": "2024-01-20T08:37:35.302820700Z",
     "start_time": "2024-01-20T08:37:35.243467800Z"
    }
   },
   "execution_count": 9,
   "outputs": []
  },
  {
   "cell_type": "markdown",
   "source": [
    "After loading and processing the data, we need to split it into features and targets."
   ],
   "metadata": {
    "id": "tgylCy2SLfON"
   }
  },
  {
   "cell_type": "code",
   "source": [
    "# We split the data into features and targets.\n",
    "X = data.drop('total_deliveries', axis=1)\n",
    "y = data[['total_deliveries']]\n"
   ],
   "metadata": {
    "id": "6OY6QuJEG1nR",
    "executionInfo": {
     "status": "ok",
     "timestamp": 1696623935979,
     "user_tz": -180,
     "elapsed": 3,
     "user": {
      "displayName": "Дмитрий Камышников",
      "userId": "03871553027115189109"
     }
    },
    "ExecuteTime": {
     "end_time": "2024-01-20T08:37:35.305189300Z",
     "start_time": "2024-01-20T08:37:35.295421600Z"
    }
   },
   "execution_count": 10,
   "outputs": []
  },
  {
   "cell_type": "markdown",
   "source": [
    "Next, it is necessary to split the data into training and testing datasets in order to conduct the training and performance evaluation of the machine learning model."
   ],
   "metadata": {
    "id": "inoJpUcOLuHz"
   }
  },
  {
   "cell_type": "code",
   "source": [
    "# We split the data into training and testing sets.\n",
    "X_train, X_test, y_train, y_test = train_test_split(X, y, train_size=0.9, shuffle=False)"
   ],
   "metadata": {
    "id": "Eb5O2Mk5G2ro",
    "executionInfo": {
     "status": "ok",
     "timestamp": 1696623935979,
     "user_tz": -180,
     "elapsed": 2,
     "user": {
      "displayName": "Дмитрий Камышников",
      "userId": "03871553027115189109"
     }
    },
    "ExecuteTime": {
     "end_time": "2024-01-20T08:37:35.325369Z",
     "start_time": "2024-01-20T08:37:35.306197800Z"
    }
   },
   "execution_count": 11,
   "outputs": []
  },
  {
   "cell_type": "markdown",
   "source": [
    "To ensure neutrality towards the weight of different features, we apply data scaling."
   ],
   "metadata": {
    "id": "67rpDmHFNFSn"
   }
  },
  {
   "cell_type": "code",
   "source": [
    "# We scale the data.\n",
    "columns_to_scale = [name for name in X_train.columns if name != 'courier_transport']\n",
    "scaler = StandardScaler()\n",
    "\n",
    "scaler.fit(X_train[columns_to_scale])\n",
    "X_train[columns_to_scale] = scaler.transform(X_train[columns_to_scale])\n",
    "X_test[columns_to_scale] = scaler.transform(X_test[columns_to_scale])"
   ],
   "metadata": {
    "id": "0piXRX6QG59P",
    "executionInfo": {
     "status": "ok",
     "timestamp": 1696623935979,
     "user_tz": -180,
     "elapsed": 2,
     "user": {
      "displayName": "Дмитрий Камышников",
      "userId": "03871553027115189109"
     }
    },
    "ExecuteTime": {
     "end_time": "2024-01-20T08:37:35.376800600Z",
     "start_time": "2024-01-20T08:37:35.325369Z"
    }
   },
   "execution_count": 12,
   "outputs": []
  },
  {
   "cell_type": "markdown",
   "source": [
    "## Feature selection and creation."
   ],
   "metadata": {
    "id": "TVpBD9691v6w"
   }
  },
  {
   "cell_type": "markdown",
   "source": [
    "To assess feature importance and select the best features for further training, we will train two models: Lasso and LassoCV. After comparing their results, we will be able to determine which features can be excluded from our dataset for more effective model training."
   ],
   "metadata": {
    "id": "zAjHFNQwNh3x"
   }
  },
  {
   "cell_type": "code",
   "source": [
    "# Let's create an instance of the Lasso model:\n",
    "lasso = Lasso()\n",
    "lasso.fit(X_train, y_train)\n",
    "\n",
    "print('Lasso coef', lasso.coef_)\n",
    "\n",
    "y_pred = lasso.predict(X_test)\n",
    "\n",
    "print('Mean Absolute Error:', metrics.mean_absolute_error(y_test, y_pred))\n",
    "print('Root Mean Squared Error:', np.sqrt(metrics.mean_squared_error(y_test, y_pred)))\n",
    "print('Coefficient of determination  R2:', metrics.r2_score(y_test, y_pred))"
   ],
   "metadata": {
    "colab": {
     "base_uri": "https://localhost:8080/"
    },
    "id": "ErMxaN59OpZO",
    "executionInfo": {
     "status": "ok",
     "timestamp": 1696623936259,
     "user_tz": -180,
     "elapsed": 282,
     "user": {
      "displayName": "Дмитрий Камышников",
      "userId": "03871553027115189109"
     }
    },
    "outputId": "f91532dd-a775-40e3-87e0-37c96657785f",
    "ExecuteTime": {
     "end_time": "2024-01-20T08:37:35.381703900Z",
     "start_time": "2024-01-20T08:37:35.341942200Z"
    }
   },
   "execution_count": 13,
   "outputs": [
    {
     "name": "stdout",
     "output_type": "stream",
     "text": [
      "Lasso coef [-0.          0.          3.3185418  -0.         -0.          0.91680957]\n",
      "Mean Absolute Error: 2.6547052575996535\n",
      "Root Mean Squared Error: 3.6618011933926153\n",
      "Coefficient of determination  R2: 0.5532542199934868\n"
     ]
    }
   ]
  },
  {
   "cell_type": "code",
   "source": [
    "# Let's create an instance of LassoCV with cross-validation:\n",
    "lasso_cv = LassoCV()\n",
    "lasso_cv.fit(X_train, y_train)\n",
    "\n",
    "print('LassoCV coef', lasso_cv.coef_)\n",
    "\n",
    "y_pred = lasso_cv.predict(X_test)\n",
    "\n",
    "print('Mean Absolute Error:', metrics.mean_absolute_error(y_test, y_pred))\n",
    "print('Root Mean Squared Error:', np.sqrt(metrics.mean_squared_error(y_test, y_pred)))\n",
    "print('Coefficient of determination  R2:', metrics.r2_score(y_test, y_pred))"
   ],
   "metadata": {
    "colab": {
     "base_uri": "https://localhost:8080/"
    },
    "id": "qZIAAHqE1y_M",
    "executionInfo": {
     "status": "ok",
     "timestamp": 1696623936259,
     "user_tz": -180,
     "elapsed": 4,
     "user": {
      "displayName": "Дмитрий Камышников",
      "userId": "03871553027115189109"
     }
    },
    "outputId": "071a4ef3-add0-4b48-87a1-79d5bba0182e",
    "ExecuteTime": {
     "end_time": "2024-01-20T08:37:35.560845100Z",
     "start_time": "2024-01-20T08:37:35.383929700Z"
    }
   },
   "execution_count": 14,
   "outputs": [
    {
     "name": "stdout",
     "output_type": "stream",
     "text": [
      "LassoCV coef [ 0.          0.2633966   3.94543263 -0.08829676 -0.24219562  1.52772364]\n",
      "Mean Absolute Error: 2.2554598370650445\n",
      "Root Mean Squared Error: 3.447522622445247\n",
      "Coefficient of determination  R2: 0.6040091195153425\n"
     ]
    },
    {
     "name": "stderr",
     "output_type": "stream",
     "text": [
      "C:\\Users\\progr\\AppData\\Local\\Programs\\Python\\Python311\\Lib\\site-packages\\sklearn\\linear_model\\_coordinate_descent.py:1563: DataConversionWarning: A column-vector y was passed when a 1d array was expected. Please change the shape of y to (n_samples, ), for example using ravel().\n",
      "  y = column_or_1d(y, warn=True)\n"
     ]
    }
   ]
  },
  {
   "cell_type": "markdown",
   "source": [
    "Based on the results:\n",
    "\n",
    "Lasso has an MAE (Mean Absolute Error) of approximately 2.710, an RMSE (Root Mean Squared Error) of approximately 3.880, and an R-squared (R2) of approximately 0.593.\n",
    "\n",
    "LassoCV has an MAE of approximately 2.400, an RMSE of approximately 3.648, and an R2 of approximately 0.640.\n",
    "\n",
    "From these metrics, we can conclude that LassoCV performs better, as it has lower MAE and RMSE values and a higher R2 value, indicating more accurate and explainable predictions.\n",
    "\n",
    "However, it's worth noting that LassoCV shows only a slight improvement compared to Lasso, while Lasso removes a larger number of features. This can be useful for simplifying the training of future models and increasing their interpretability."
   ],
   "metadata": {
    "id": "5_UGojZMOnr9"
   }
  },
  {
   "cell_type": "code",
   "source": [
    "# Obtaining coefficients for each feature\n",
    "feature_coefficients = lasso.coef_\n",
    "print(lasso.coef_)\n",
    "\n",
    "# We create a list of selected features.\n",
    "selected_features = X_train.columns[feature_coefficients != 0]\n",
    "\n",
    "# We create a mask for the selected features.\n",
    "selected_feature_mask = feature_coefficients != 0\n",
    "\n",
    "# We use the mask to select the features.\n",
    "X_train_selected = X_train.iloc[:, selected_feature_mask]\n",
    "X_test_selected = X_test.iloc[:, selected_feature_mask]"
   ],
   "metadata": {
    "colab": {
     "base_uri": "https://localhost:8080/"
    },
    "id": "RiNAfIslOltF",
    "executionInfo": {
     "status": "ok",
     "timestamp": 1696623936259,
     "user_tz": -180,
     "elapsed": 3,
     "user": {
      "displayName": "Дмитрий Камышников",
      "userId": "03871553027115189109"
     }
    },
    "outputId": "e5730bea-39c9-4b52-ccf6-712e177bf382",
    "ExecuteTime": {
     "end_time": "2024-01-20T08:37:35.565855300Z",
     "start_time": "2024-01-20T08:37:35.556003Z"
    }
   },
   "execution_count": 15,
   "outputs": [
    {
     "name": "stdout",
     "output_type": "stream",
     "text": [
      "[-0.          0.          3.3185418  -0.         -0.          0.91680957]\n"
     ]
    }
   ]
  },
  {
   "cell_type": "markdown",
   "source": [
    "## Visualization of Data"
   ],
   "metadata": {
    "id": "PBXL5ve912aN"
   }
  },
  {
   "cell_type": "code",
   "source": [
    "# Applying PCA to the Data\n",
    "pca = PCA(n_components=2)\n",
    "X_pca = pca.fit_transform(X_train_selected)\n",
    "\n",
    "# Splitting the data into two subsets, for example, based on a condition\n",
    "X_pca1 = X_pca[:5600,:]\n",
    "X_pca2 = X_pca[5600:,:]\n",
    "\n",
    "# Creating a scatter plot for the first subset (blue color)\n",
    "plt.scatter(X_pca1[:, 0], X_pca1[:, 1], c='blue', cmap='viridis', label='Group 1')\n",
    "\n",
    "# Creating a scatter plot for the second subset (red color)\n",
    "plt.scatter(X_pca2[:, 0], X_pca2[:, 1], c='red', cmap='viridis', label='Group 2')\n",
    "\n",
    "plt.xlabel('Principal Component 1')\n",
    "plt.ylabel('Principal Component 2')\n",
    "plt.colorbar(label='Target Variable')\n",
    "plt.title('PCA Visualization')\n",
    "plt.legend()  # Adding a legend to label the groups.\n",
    "plt.show()"
   ],
   "metadata": {
    "colab": {
     "base_uri": "https://localhost:8080/",
     "height": 541
    },
    "id": "MK9CQPaj14hN",
    "executionInfo": {
     "status": "ok",
     "timestamp": 1696623937320,
     "user_tz": -180,
     "elapsed": 1063,
     "user": {
      "displayName": "Дмитрий Камышников",
      "userId": "03871553027115189109"
     }
    },
    "outputId": "6e2faeeb-0987-4182-be0a-79a3e65d9421",
    "ExecuteTime": {
     "end_time": "2024-01-20T08:37:35.642785700Z",
     "start_time": "2024-01-20T08:37:35.567855100Z"
    }
   },
   "execution_count": 16,
   "outputs": [
    {
     "name": "stderr",
     "output_type": "stream",
     "text": [
      "C:\\Users\\progr\\AppData\\Local\\Temp\\ipykernel_9196\\961210534.py:10: UserWarning: No data for colormapping provided via 'c'. Parameters 'cmap' will be ignored\n",
      "  plt.scatter(X_pca1[:, 0], X_pca1[:, 1], c='blue', cmap='viridis', label='Group 1')\n",
      "C:\\Users\\progr\\AppData\\Local\\Temp\\ipykernel_9196\\961210534.py:13: UserWarning: No data for colormapping provided via 'c'. Parameters 'cmap' will be ignored\n",
      "  plt.scatter(X_pca2[:, 0], X_pca2[:, 1], c='red', cmap='viridis', label='Group 2')\n",
      "C:\\Users\\progr\\AppData\\Local\\Temp\\ipykernel_9196\\961210534.py:20: UserWarning: Matplotlib is currently using module://matplotlib_inline.backend_inline, which is a non-GUI backend, so cannot show the figure.\n",
      "  plt.show()\n"
     ]
    }
   ]
  },
  {
   "cell_type": "markdown",
   "source": [
    "On this graph, we can observe a linear relationship."
   ],
   "metadata": {
    "id": "bf5_j8STTqYA"
   }
  },
  {
   "cell_type": "markdown",
   "source": [
    "## Machine Learning Models for Regression"
   ],
   "metadata": {
    "id": "1Uf2917x1-Np"
   }
  },
  {
   "cell_type": "code",
   "source": [
    "# Create a list of models\n",
    "models = [\n",
    "    LinearRegression(),# Example of a Linear Regression model\n",
    "    Lasso(),  # Example of a Lasso regularization model\n",
    "    Ridge(),  # Example of a Ridge regularization model\n",
    "]\n",
    "\n",
    "# We train and evaluate each model.\n",
    "for model in models:\n",
    "    model.fit(X_train_selected, y_train)\n",
    "    y_pred = model.predict(X_test_selected)\n",
    "    mae = mean_absolute_error(y_test, y_pred)\n",
    "    rmse = np.sqrt(mean_squared_error(y_test, y_pred))\n",
    "    r2 = r2_score(y_test, y_pred)\n",
    "    print(f'Model: {model.__class__.__name__}')\n",
    "    print(f'Mean Absolute Error: {mae:.2f}')\n",
    "    print(f'Root Mean Squared Error: {rmse:.2f}')\n",
    "    print(f'R-squared (R2): {r2:.2f}')\n",
    "    print('-' * 40)\n"
   ],
   "metadata": {
    "colab": {
     "base_uri": "https://localhost:8080/"
    },
    "id": "JT1DIlZC2Ali",
    "executionInfo": {
     "status": "ok",
     "timestamp": 1696623937320,
     "user_tz": -180,
     "elapsed": 4,
     "user": {
      "displayName": "Дмитрий Камышников",
      "userId": "03871553027115189109"
     }
    },
    "outputId": "9135e9ef-e5f7-4bbb-8548-74a77c131790",
    "ExecuteTime": {
     "end_time": "2024-01-20T08:37:35.746837900Z",
     "start_time": "2024-01-20T08:37:35.642785700Z"
    }
   },
   "execution_count": 17,
   "outputs": [
    {
     "name": "stdout",
     "output_type": "stream",
     "text": [
      "Model: LinearRegression\n",
      "Mean Absolute Error: 2.37\n",
      "Root Mean Squared Error: 3.53\n",
      "R-squared (R2): 0.58\n",
      "----------------------------------------\n",
      "Model: Lasso\n",
      "Mean Absolute Error: 2.65\n",
      "Root Mean Squared Error: 3.66\n",
      "R-squared (R2): 0.55\n",
      "----------------------------------------\n",
      "Model: Ridge\n",
      "Mean Absolute Error: 2.37\n",
      "Root Mean Squared Error: 3.53\n",
      "R-squared (R2): 0.58\n",
      "----------------------------------------\n"
     ]
    }
   ]
  }
 ]
}
